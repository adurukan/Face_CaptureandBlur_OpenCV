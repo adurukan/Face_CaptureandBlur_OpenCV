{
 "cells": [
  {
   "cell_type": "code",
   "execution_count": 1,
   "metadata": {},
   "outputs": [],
   "source": [
    "import numpy as np \n",
    "import cv2"
   ]
  },
  {
   "cell_type": "code",
   "execution_count": 2,
   "metadata": {},
   "outputs": [],
   "source": [
    "def detect_and_blur(img, plate_rects):\n",
    "    \n",
    "    # Watch solutions video for line by line explanation!\n",
    "    \n",
    "    plate_img = img.copy()\n",
    "    roi = img.copy()\n",
    "    \n",
    "    for (x,y,w,h) in plate_rects: \n",
    "        \n",
    "        roi = roi[y:y+h,x:x+w]\n",
    "        blurred_roi = cv2.medianBlur(roi,7)\n",
    "        \n",
    "        plate_img[y:y+h,x:x+w] = blurred_roi\n",
    "        \n",
    "    return plate_img"
   ]
  },
  {
   "cell_type": "code",
   "execution_count": 3,
   "metadata": {},
   "outputs": [],
   "source": [
    "#Capturing the video\n",
    "cap = cv2.VideoCapture(0)\n",
    "#Reading the video frame by frame\n",
    "ret, frame = cap.read()\n",
    "#Using frontal face cascade from opencv\n",
    "face_cascade = cv2.CascadeClassifier(\"../DATA/haarcascades/haarcascade_frontalface_default.xml\")\n",
    "\n",
    "face_rects = face_cascade.detectMultiScale(frame)\n",
    "#Getting the lengths for the rectangle\n",
    "(face_x, face_y, w, h) = tuple(face_rects[0])\n",
    "track_window = (face_x, face_y, w, h)\n",
    "#Getting the region of interest using the lengths that are obtained\n",
    "roi = frame[face_y:face_y+h, face_x:face_x+w]\n",
    "\n",
    "hsv_roi = cv2.cvtColor(roi, cv2.COLOR_BGR2HSV)\n",
    "#Calculating histogram of set of arrays\n",
    "roi_hist = cv2.calcHist([hsv_roi], [0], None, [180], [0,180])\n",
    "#Normalizing between 0 and 255\n",
    "cv2.normalize(roi_hist, roi_hist, 0, 255, cv2.NORM_MINMAX)\n",
    "\n",
    "term_crit = (cv2.TERM_CRITERIA_EPS | cv2.TERM_CRITERIA_COUNT, 10, 1)\n",
    "\n",
    "while True:\n",
    "    ret, frame = cap.read()\n",
    "    \n",
    "    if ret == True:\n",
    "        hsv = cv2.cvtColor(frame, cv2.COLOR_BGR2HSV)\n",
    "        dst = cv2.calcBackProject([hsv], [0], roi_hist, [0,180], 1)\n",
    "        \n",
    "        ret, track_window = cv2.meanShift(dst, track_window, term_crit)\n",
    "        # Getting the frame and drawing a rectangle around the face and later blurring it\n",
    "        x,y,w,h =track_window\n",
    "        img2 = cv2.rectangle(frame, (x,y), (x+w,y+h), (0,0,255), 5)\n",
    "        img2 = detect_and_blur(img2, face_rects)\n",
    "        #Seeing the image\n",
    "        cv2.imshow(\"img\", img2)\n",
    "        # Press Esc to leave\n",
    "        k = cv2.waitKey(1) & 0xFF\n",
    "        if k == 27:\n",
    "            break\n",
    "    else:\n",
    "        break\n",
    "            \n",
    "cap.release()\n",
    "cv2.destroyAllWindows()\n"
   ]
  },
  {
   "cell_type": "code",
   "execution_count": null,
   "metadata": {},
   "outputs": [],
   "source": []
  },
  {
   "cell_type": "code",
   "execution_count": null,
   "metadata": {},
   "outputs": [],
   "source": []
  }
 ],
 "metadata": {
  "kernelspec": {
   "display_name": "Python 3",
   "language": "python",
   "name": "python3"
  },
  "language_info": {
   "codemirror_mode": {
    "name": "ipython",
    "version": 3
   },
   "file_extension": ".py",
   "mimetype": "text/x-python",
   "name": "python",
   "nbconvert_exporter": "python",
   "pygments_lexer": "ipython3",
   "version": "3.7.6"
  }
 },
 "nbformat": 4,
 "nbformat_minor": 4
}
